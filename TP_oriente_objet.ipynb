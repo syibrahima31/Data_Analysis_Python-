{
  "nbformat": 4,
  "nbformat_minor": 0,
  "metadata": {
    "colab": {
      "name": "TP_oriente_objet.ipynb",
      "provenance": [],
      "authorship_tag": "ABX9TyNBpOex4CLhZRLOMDKFHKtW",
      "include_colab_link": true
    },
    "kernelspec": {
      "name": "python3",
      "display_name": "Python 3"
    },
    "language_info": {
      "name": "python"
    }
  },
  "cells": [
    {
      "cell_type": "markdown",
      "metadata": {
        "id": "view-in-github",
        "colab_type": "text"
      },
      "source": [
        "<a href=\"https://colab.research.google.com/github/syibrahima31/Data_Analysis_Python-/blob/main/TP_oriente_objet.ipynb\" target=\"_parent\"><img src=\"https://colab.research.google.com/assets/colab-badge.svg\" alt=\"Open In Colab\"/></a>"
      ]
    },
    {
      "cell_type": "code",
      "execution_count": 1,
      "metadata": {
        "id": "ETl-SCdvLVo1"
      },
      "outputs": [],
      "source": [
        "class Point: \n",
        "    def __init__(self, x, y):\n",
        "        self.x = x \n",
        "        self.y = y \n",
        "\n",
        "    def Distance(self, P):\n",
        "        import math\n",
        "        dist = math.sqrt((self.x-P.x)**2 + (self.y - P.y)**2)\n",
        "        return dist \n",
        "    \n",
        "    def __add__(self, P): \n",
        "        return Point(self.x + P.x, self.y + P.y)\n",
        "\n",
        "    def __mul__(self, k):\n",
        "        return Point(self.x*k, self.y*k)\n",
        "    \n",
        "    def Milieu(self, P): \n",
        "        m_x = (self.x + P.x)/2 \n",
        "        m_y = (self.y + P.y)/2  \n",
        "        return Point(m_x, m_y)\n",
        "    \n",
        "    def __repr__(self): \n",
        "        return f\"  Pt[{self.x}, {self.y}]\"\n",
        "   "
      ]
    },
    {
      "cell_type": "code",
      "source": [
        "pt1  = Point(1, 2)\n",
        "pt2  = Point(3, 2)"
      ],
      "metadata": {
        "id": "bTlokh19LfLF"
      },
      "execution_count": 4,
      "outputs": []
    },
    {
      "cell_type": "code",
      "source": [
        "pt1.Distance(pt2)\n"
      ],
      "metadata": {
        "id": "edW-DlnaLnK_"
      },
      "execution_count": null,
      "outputs": []
    },
    {
      "cell_type": "code",
      "source": [
        "pt1.Milieu(pt2)"
      ],
      "metadata": {
        "id": "mzC3LGqALq0q"
      },
      "execution_count": null,
      "outputs": []
    },
    {
      "cell_type": "code",
      "source": [
        "class Droite: \n",
        "    def __init__(self, a, b): \n",
        "        self.a = a \n",
        "        self.b = b \n",
        "\n",
        "    def Appartient(self, P:Point): \n",
        "        return P.y == self.a * P.x + self.b \n",
        "    \n",
        "    def GetPoint(self, x:float): \n",
        "        y = self.a * x + self.b \n",
        "        return Point(x, y)\n",
        "\n",
        "    def Parallele(self, P): \n",
        "        a_prime = self.a \n",
        "        b_prime = P.y - a_prime * P.x \n",
        "        return Droite(a_prime, b_prime)\n",
        "\n",
        "    def __repr__(self): \n",
        "        if self.b < 0 :\n",
        "            return f\"(D) : y = {self.a}x - {abs(self.b)}\"\n",
        "        else:\n",
        "            return f\"(D) : y = {self.a}x + {self.b}\""
      ],
      "metadata": {
        "id": "bPrDdRT-Lf3m"
      },
      "execution_count": 3,
      "outputs": []
    },
    {
      "cell_type": "code",
      "source": [
        "def Droite2Pts(A:Point, B:Point):\n",
        "    a = (A.y - B.y) /(A.x - B.x)\n",
        "    b = A.y -(a * A.x)\n",
        "    return Droite(a, b)  "
      ],
      "metadata": {
        "id": "x0TC_NQsLiks"
      },
      "execution_count": null,
      "outputs": []
    },
    {
      "cell_type": "code",
      "source": [
        "d1 = Droite(1, 3)\n",
        "pt = Point(3,1)"
      ],
      "metadata": {
        "id": "52M__uWJLww7"
      },
      "execution_count": null,
      "outputs": []
    },
    {
      "cell_type": "code",
      "source": [
        "d1.GetPoint(3)"
      ],
      "metadata": {
        "id": "wuRgdH7_Lyrj"
      },
      "execution_count": null,
      "outputs": []
    },
    {
      "cell_type": "code",
      "source": [
        "A = Point(1,2)\n",
        "B = Point(3,4)\n",
        "Droite2Pts(A, B)"
      ],
      "metadata": {
        "id": "HPXtThLeL0jH"
      },
      "execution_count": null,
      "outputs": []
    },
    {
      "cell_type": "code",
      "source": [
        "class Cercle: \n",
        "    def __init__(self, a, b, c):\n",
        "        self.O = Point(a,b)\n",
        "        \n",
        "        if c < 0: \n",
        "            raise Exception(\"le rayon ne doit pas etre negatif\")\n",
        "        else:\n",
        "            self.R = c \n",
        "\n",
        "    def Appartient(self, P): \n",
        "        return P.Distance(self.O) == self.O\n",
        "\n",
        "    def Confondus(self, C): \n",
        "        return  (self.O.x == C.O.x) and (self.O.y == C.O.y) and (self.R == C.R)\n",
        "\n",
        "    def __repr__(self): \n",
        "        return f\"Cercle : centre = {self.O}, rayon = {self.R}\"\n",
        "    "
      ],
      "metadata": {
        "id": "LbuNtKE0L2uY"
      },
      "execution_count": 5,
      "outputs": []
    },
    {
      "cell_type": "code",
      "source": [
        "c1 = Cercle(1,2, 3)\n",
        "c2 = Cercle(1,2, 4)"
      ],
      "metadata": {
        "id": "yZQ0GQ0TL40B"
      },
      "execution_count": 6,
      "outputs": []
    },
    {
      "cell_type": "code",
      "source": [
        "c1.Confondus(c2)"
      ],
      "metadata": {
        "id": "rZtUbDeWL5PN"
      },
      "execution_count": null,
      "outputs": []
    },
    {
      "cell_type": "code",
      "source": [
        "c1.Appartient(Point(2,3))"
      ],
      "metadata": {
        "colab": {
          "base_uri": "https://localhost:8080/"
        },
        "id": "VU6DCs6FL82g",
        "outputId": "ce976c3a-07ca-4896-ef8a-0eedc9d097fc"
      },
      "execution_count": 7,
      "outputs": [
        {
          "output_type": "execute_result",
          "data": {
            "text/plain": [
              "False"
            ]
          },
          "metadata": {},
          "execution_count": 7
        }
      ]
    },
    {
      "cell_type": "code",
      "source": [
        "def Cercle2Points(A:Point, B:Point):\n",
        "\n",
        "    # les coordonnées du centre \n",
        "    a, b = A.x , A.y \n",
        "\n",
        "    # le rayon \n",
        "    R  = B.Distance(A)\n",
        "\n",
        "    return Cercle(a,b, R)"
      ],
      "metadata": {
        "id": "OVzcX-GAL-NM"
      },
      "execution_count": 8,
      "outputs": []
    },
    {
      "cell_type": "code",
      "source": [
        "A = Point(1, 2)\n",
        "B  = Point(3, 2) "
      ],
      "metadata": {
        "id": "8gpos4D8L_xR"
      },
      "execution_count": 9,
      "outputs": []
    },
    {
      "cell_type": "code",
      "source": [
        "Cercle2Points(A, B )"
      ],
      "metadata": {
        "colab": {
          "base_uri": "https://localhost:8080/"
        },
        "id": "7Kvnf1Y7MBQr",
        "outputId": "47af27d2-f7eb-4de2-e21b-ee1bb952e17c"
      },
      "execution_count": 10,
      "outputs": [
        {
          "output_type": "execute_result",
          "data": {
            "text/plain": [
              "Cercle : centre =   Pt[1, 2], rayon = 2.0"
            ]
          },
          "metadata": {},
          "execution_count": 10
        }
      ]
    },
    {
      "cell_type": "code",
      "source": [
        ""
      ],
      "metadata": {
        "id": "vQoXTDacMB0S"
      },
      "execution_count": null,
      "outputs": []
    }
  ]
}