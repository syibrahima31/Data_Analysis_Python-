{
  "nbformat": 4,
  "nbformat_minor": 0,
  "metadata": {
    "colab": {
      "name": "Analyse discriminante géométrique .ipynb",
      "provenance": [],
      "authorship_tag": "ABX9TyNevW4rWTwlW670ZMGG7ZRM",
      "include_colab_link": true
    },
    "kernelspec": {
      "name": "python3",
      "display_name": "Python 3"
    },
    "language_info": {
      "name": "python"
    }
  },
  "cells": [
    {
      "cell_type": "markdown",
      "metadata": {
        "id": "view-in-github",
        "colab_type": "text"
      },
      "source": [
        "<a href=\"https://colab.research.google.com/github/syibrahima31/Data_Analysis_Python-/blob/main/Analyse_discriminante_g%C3%A9om%C3%A9trique_.ipynb\" target=\"_parent\"><img src=\"https://colab.research.google.com/assets/colab-badge.svg\" alt=\"Open In Colab\"/></a>"
      ]
    },
    {
      "cell_type": "markdown",
      "source": [
        "#### importation des packages "
      ],
      "metadata": {
        "id": "0_-XSECk3S8r"
      }
    },
    {
      "cell_type": "code",
      "execution_count": 26,
      "metadata": {
        "id": "yWzKS3t12-3s"
      },
      "outputs": [],
      "source": [
        "import numpy as np\n",
        "import pandas as pd \n",
        "import seaborn as sns \n",
        "from sklearn.datasets import load_iris"
      ]
    },
    {
      "cell_type": "code",
      "source": [
        "X, y = load_iris().data , load_iris().target \n",
        "y"
      ],
      "metadata": {
        "colab": {
          "base_uri": "https://localhost:8080/"
        },
        "id": "oYqOuGn77JeK",
        "outputId": "998e1a16-cdb5-4c5c-b7d5-9e890408b4ae"
      },
      "execution_count": 27,
      "outputs": [
        {
          "output_type": "execute_result",
          "data": {
            "text/plain": [
              "array([0, 0, 0, 0, 0, 0, 0, 0, 0, 0, 0, 0, 0, 0, 0, 0, 0, 0, 0, 0, 0, 0,\n",
              "       0, 0, 0, 0, 0, 0, 0, 0, 0, 0, 0, 0, 0, 0, 0, 0, 0, 0, 0, 0, 0, 0,\n",
              "       0, 0, 0, 0, 0, 0, 1, 1, 1, 1, 1, 1, 1, 1, 1, 1, 1, 1, 1, 1, 1, 1,\n",
              "       1, 1, 1, 1, 1, 1, 1, 1, 1, 1, 1, 1, 1, 1, 1, 1, 1, 1, 1, 1, 1, 1,\n",
              "       1, 1, 1, 1, 1, 1, 1, 1, 1, 1, 1, 1, 2, 2, 2, 2, 2, 2, 2, 2, 2, 2,\n",
              "       2, 2, 2, 2, 2, 2, 2, 2, 2, 2, 2, 2, 2, 2, 2, 2, 2, 2, 2, 2, 2, 2,\n",
              "       2, 2, 2, 2, 2, 2, 2, 2, 2, 2, 2, 2, 2, 2, 2, 2, 2, 2])"
            ]
          },
          "metadata": {},
          "execution_count": 27
        }
      ]
    },
    {
      "cell_type": "code",
      "source": [
        "class AnalisDisriminant: \n",
        "  def __init__(self): \n",
        "    pass \n",
        "\n",
        "  def fit(self, X, y): \n",
        "    # regroupons X et y dans un seul dataframe \n",
        "    self.data = np.concatenate([X, y.reshape(-1,1)], axis= 1)\n",
        "\n",
        "    # calcul du nombre de ligne et de colone \n",
        "    nrow, ncol = X.shape \n",
        "\n",
        "    # calcul des fdifferentes classes \n",
        "    self.classes = np.unique(y)\n",
        "\n",
        "\n",
        "    # initialisation de W \n",
        "    self.W = np.zeros(shape=(ncol, ncol))\n",
        "\n",
        "    for c in self.classes: \n",
        "      X_k = self.data[self.data[:, -1]==c, :-1]\n",
        "\n",
        "      n_k = len(X_k)\n",
        "\n",
        "      V_k = np.cov(X_k.T)\n",
        "\n",
        "      self.W += (n_k/nrow)* V_k \n",
        "\n",
        "  def distance(self, x , g): \n",
        "    from scipy.linalg import inv \n",
        "    return ((x-g).T).dot(inv(self.W)).dot(x-g) \n",
        "\n",
        "\n",
        "  def _predict(self, x): \n",
        "    L = []\n",
        "\n",
        "    for c in self.classes: \n",
        "      X_k = self.data[self.data[:, -1]==c, :-1] \n",
        "      g_k = X_k.mean(axis=0)\n",
        "      dist = self.distance(x, g_k)\n",
        "      L.append(dist)\n",
        "    \n",
        "    L = np.array(L)\n",
        "    return np.argmin(L)\n",
        "\n",
        "\n",
        "  def predict(self, X): \n",
        "    L = [self._predict(x) for x in X]\n",
        "\n",
        "    return np.array(L)\n",
        "\n",
        "    \n",
        "\n",
        "\n"
      ],
      "metadata": {
        "id": "yXUzL1e13EgI"
      },
      "execution_count": 42,
      "outputs": []
    },
    {
      "cell_type": "code",
      "source": [
        "model = AnalisDisriminant( )\n",
        "model.fit(X, y)"
      ],
      "metadata": {
        "id": "3uI6pdPz3Irk"
      },
      "execution_count": 43,
      "outputs": []
    },
    {
      "cell_type": "code",
      "source": [
        "prediction = model.predict(X)"
      ],
      "metadata": {
        "id": "HNMye3_m8-tR"
      },
      "execution_count": 46,
      "outputs": []
    },
    {
      "cell_type": "code",
      "source": [
        "(y == prediction).mean()"
      ],
      "metadata": {
        "id": "R45ffFsJ_SmY",
        "colab": {
          "base_uri": "https://localhost:8080/"
        },
        "outputId": "85ca9a7c-a934-4df1-aa69-1e093adb302e"
      },
      "execution_count": 49,
      "outputs": [
        {
          "output_type": "execute_result",
          "data": {
            "text/plain": [
              "0.98"
            ]
          },
          "metadata": {},
          "execution_count": 49
        }
      ]
    },
    {
      "cell_type": "code",
      "source": [
        ""
      ],
      "metadata": {
        "id": "BI381xVmKkMY"
      },
      "execution_count": null,
      "outputs": []
    }
  ]
}